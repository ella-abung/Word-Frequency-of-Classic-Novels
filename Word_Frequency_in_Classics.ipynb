{
  "nbformat": 4,
  "nbformat_minor": 0,
  "metadata": {
    "kernelspec": {
      "name": "python3",
      "display_name": "Python 3",
      "language": "python"
    },
    "language_info": {
      "name": "python",
      "version": "3.6.7",
      "mimetype": "text/x-python",
      "codemirror_mode": {
        "name": "ipython",
        "version": 3
      },
      "pygments_lexer": "ipython3",
      "nbconvert_exporter": "python",
      "file_extension": ".py"
    },
    "colab": {
      "name": "Word Frequency in Classics.ipynb",
      "provenance": [],
      "collapsed_sections": [],
      "toc_visible": true,
      "include_colab_link": true
    }
  },
  "cells": [
    {
      "cell_type": "markdown",
      "metadata": {
        "id": "view-in-github",
        "colab_type": "text"
      },
      "source": [
        "<a href=\"https://colab.research.google.com/github/ella-abung/Word-Frequency-of-Classic-Novels/blob/main/Word_Frequency_in_Classics.ipynb\" target=\"_parent\"><img src=\"https://colab.research.google.com/assets/colab-badge.svg\" alt=\"Open In Colab\"/></a>"
      ]
    },
    {
      "cell_type": "markdown",
      "metadata": {
        "dc": {
          "key": "3"
        },
        "deletable": false,
        "editable": false,
        "run_control": {
          "frozen": true
        },
        "tags": [
          "context"
        ],
        "id": "uVz8Ejf7bBwx"
      },
      "source": [
        "## 1. Tools for text processing\n",
        "<p><img style=\"float: right ; margin: 5px 20px 5px 10px; width: 45%\" src=\"https://assets.datacamp.com/production/project_38/img/Moby_Dick_p510_illustration.jpg\"> </p>\n",
        "<p>What are the most frequent words in Herman Melville's novel, Moby Dick, and how often do they occur?</p>\n",
        "<p>In this notebook, we'll scrape the novel <em>Moby Dick</em> from the website <a href=\"https://www.gutenberg.org/\">Project Gutenberg</a> (which contains a large corpus of books) using the Python package <code>requests</code>. Then we'll extract words from this web data using <code>BeautifulSoup</code>. Finally, we'll dive into analyzing the distribution of words using the Natural Language ToolKit (<code>nltk</code>) and <code>Counter</code>.</p>\n",
        "<p>The <em>Data Science pipeline</em> we'll build in this notebook can be used to visualize the word frequency distributions of any novel that you can find on Project Gutenberg. The natural language processing tools used here apply to much of the data that data scientists encounter as a vast proportion of the world's data is unstructured data and includes a great deal of text.</p>\n",
        "<p>Let's start by loading in the three main Python packages we are going to use.</p>"
      ]
    },
    {
      "cell_type": "code",
      "metadata": {
        "dc": {
          "key": "3"
        },
        "tags": [
          "sample_code"
        ],
        "collapsed": true,
        "trusted": true,
        "id": "PFPPwqjFbBxc"
      },
      "source": [
        "# Importing requests, BeautifulSoup, nltk, and Counter\n",
        "import requests\n",
        "from bs4 import BeautifulSoup\n",
        "import nltk\n",
        "from collections import Counter"
      ],
      "execution_count": 2,
      "outputs": []
    },
    {
      "cell_type": "markdown",
      "metadata": {
        "dc": {
          "key": "10"
        },
        "deletable": false,
        "editable": false,
        "run_control": {
          "frozen": true
        },
        "tags": [
          "context"
        ],
        "id": "Z-Mp_hClbBxg"
      },
      "source": [
        "## 2. Request Moby Dick\n",
        "<p>To analyze Moby Dick, we need to get the contents of Moby Dick from <em>somewhere</em>. Luckily, the text is freely available online at Project Gutenberg as an HTML file: https://www.gutenberg.org/files/2701/2701-h/2701-h.htm .</p>\n",
        "<p><strong>Note</strong> that HTML stands for Hypertext Markup Language and is the standard markup language for the web.</p>\n",
        "<p>To fetch the HTML file with Moby Dick we're going to use the <code>request</code> package to make a <code>GET</code> request for the website, which means we're <em>getting</em> data from it. This is what you're doing through a browser when visiting a webpage, but now we're getting the requested page directly into Python instead. </p>"
      ]
    },
    {
      "cell_type": "code",
      "metadata": {
        "dc": {
          "key": "10"
        },
        "tags": [
          "sample_code"
        ],
        "trusted": true,
        "colab": {
          "base_uri": "https://localhost:8080/"
        },
        "id": "YTuOAJC2bBxj",
        "outputId": "8ab3694b-9d5e-41e7-b66a-d4ea2e24a48f"
      },
      "source": [
        "# Getting the Moby Dick HTML \n",
        "r = requests.get('https://s3.amazonaws.com/assets.datacamp.com/production/project_147/datasets/2701-h.htm')\n",
        "\n",
        "# Setting the correct text encoding of the HTML page\n",
        "r.encoding = 'utf-8'\n",
        "\n",
        "# Extracting the HTML from the request object\n",
        "html = r.text\n",
        "\n",
        "# Printing the first 2000 characters in html\n",
        "print(html[0:2000])"
      ],
      "execution_count": 3,
      "outputs": [
        {
          "output_type": "stream",
          "text": [
            "<?xml version=\"1.0\" encoding=\"utf-8\"?>\r\n",
            "\r\n",
            "<!DOCTYPE html\r\n",
            "   PUBLIC \"-//W3C//DTD XHTML 1.0 Strict//EN\"\r\n",
            "   \"http://www.w3.org/TR/xhtml1/DTD/xhtml1-strict.dtd\" >\r\n",
            "\r\n",
            "<html xmlns=\"http://www.w3.org/1999/xhtml\" lang=\"en\">\r\n",
            "  <head>\r\n",
            "    <title>\r\n",
            "      Moby Dick; Or the Whale, by Herman Melville\r\n",
            "    </title>\r\n",
            "    <style type=\"text/css\" xml:space=\"preserve\">\r\n",
            "\r\n",
            "    body { background:#faebd0; color:black; margin-left:15%; margin-right:15%; text-align:justify }\r\n",
            "    P { text-indent: 1em; margin-top: .25em; margin-bottom: .25em; }\r\n",
            "    H1,H2,H3,H4,H5,H6 { text-align: center; margin-left: 15%; margin-right: 15%; }\r\n",
            "    hr  { width: 50%; text-align: center;}\r\n",
            "    .foot { margin-left: 20%; margin-right: 20%; text-align: justify; text-indent: -3em; font-size: 90%; }\r\n",
            "    blockquote {font-size: 100%; margin-left: 0%; margin-right: 0%;}\r\n",
            "    .mynote    {background-color: #DDE; color: #000; padding: .5em; margin-left: 10%; margin-right: 10%; font-family: sans-serif; font-size: 95%;}\r\n",
            "    .toc       { margin-left: 10%; margin-bottom: .75em;}\r\n",
            "    .toc2      { margin-left: 20%;}\r\n",
            "    div.fig    { display:block; margin:0 auto; text-align:center; }\r\n",
            "    div.middle { margin-left: 20%; margin-right: 20%; text-align: justify; }\r\n",
            "    .figleft   {float: left; margin-left: 0%; margin-right: 1%;}\r\n",
            "    .figright  {float: right; margin-right: 0%; margin-left: 1%;}\r\n",
            "    .pagenum   {display:inline; font-size: 70%; font-style:normal;\r\n",
            "               margin: 0; padding: 0; position: absolute; right: 1%;\r\n",
            "               text-align: right;}\r\n",
            "    pre        { font-family: times new roman; font-size: 100%; margin-left: 10%;}\r\n",
            "\r\n",
            "    table      {margin-left: 10%;}\r\n",
            "\r\n",
            "a:link {color:blue;\r\n",
            "\t\ttext-decoration:none}\r\n",
            "link {color:blue;\r\n",
            "\t\ttext-decoration:none}\r\n",
            "a:visited {color:blue;\r\n",
            "\t\ttext-decoration:none}\r\n",
            "a:hover {color:red}\r\n",
            "\r\n",
            "</style>\r\n",
            "  </head>\r\n",
            "  <body>\r\n",
            "<pre xml:space=\"preserve\">\r\n",
            "\r\n",
            "The Project Gutenberg EBook of Moby Dick; or The Whale, by Herman Melville\r\n",
            "\r\n",
            "This eBook is for the use of anyone anywh\n"
          ],
          "name": "stdout"
        }
      ]
    },
    {
      "cell_type": "markdown",
      "metadata": {
        "dc": {
          "key": "17"
        },
        "deletable": false,
        "editable": false,
        "run_control": {
          "frozen": true
        },
        "tags": [
          "context"
        ],
        "id": "00ANLBXXbBxs"
      },
      "source": [
        "## 3. Get the text from the HTML\n",
        "<p>This HTML is not quite what we want. However, it does <em>contain</em> what we want: the text of <em>Moby Dick</em>. What we need to do now is <em>wrangle</em> this HTML to extract the text of the novel. For this we'll use the package <code>BeautifulSoup</code>.</p>\n",
        "<p>Firstly, a word on the name of the package: Beautiful Soup? In web development, the term \"tag soup\" refers to structurally or syntactically incorrect HTML code written for a web page. What Beautiful Soup does best is to make tag soup beautiful again and to extract information from it with ease! In fact, the main object created and queried when using this package is called <code>BeautifulSoup</code>.</p>"
      ]
    },
    {
      "cell_type": "code",
      "metadata": {
        "dc": {
          "key": "17"
        },
        "trusted": true,
        "colab": {
          "base_uri": "https://localhost:8080/"
        },
        "id": "wOlBTCGFbBxw",
        "outputId": "528fce12-b8b0-4309-9c6e-00d503fdbdd6"
      },
      "source": [
        "# Creating a BeautifulSoup object from the HTML\n",
        "soup = BeautifulSoup(html, \"html.parser\")\n",
        "\n",
        "# Getting the text out of the soup\n",
        "text = soup.get_text()\n",
        "\n",
        "# Printing out text between characters 32000 and 34000\n",
        "print(text[32000:34000])"
      ],
      "execution_count": 4,
      "outputs": [
        {
          "output_type": "stream",
          "text": [
            "r which the beech tree\r\n",
            "        extended its branches.” —Darwin’s Voyage of a Naturalist.\r\n",
            "      \n",
            "\r\n",
            "        “‘Stern all!’ exclaimed the mate, as upon turning his head, he saw the\r\n",
            "        distended jaws of a large Sperm Whale close to the head of the boat,\r\n",
            "        threatening it with instant destruction;—‘Stern all, for your\r\n",
            "        lives!’” —Wharton the Whale Killer.\r\n",
            "      \n",
            "\r\n",
            "        “So be cheery, my lads, let your hearts never fail, While the bold\r\n",
            "        harpooneer is striking the whale!” —Nantucket Song.\r\n",
            "      \n",
            "\r\n",
            "     “Oh, the rare old Whale, mid storm and gale\r\n",
            "     In his ocean home will be\r\n",
            "     A giant in might, where might is right,\r\n",
            "     And King of the boundless sea.”\r\n",
            "      —Whale Song.\r\n",
            "\n",
            "\n",
            "\n",
            "\n",
            "\n",
            " \n",
            "\n",
            "\n",
            "\n",
            "\n",
            "\r\n",
            "      CHAPTER 1. Loomings.\r\n",
            "    \n",
            "\r\n",
            "      Call me Ishmael. Some years ago—never mind how long precisely—having\r\n",
            "      little or no money in my purse, and nothing particular to interest me on\r\n",
            "      shore, I thought I would sail about a little and see the watery part of\r\n",
            "      the world. It is a way I have of driving off the spleen and regulating the\r\n",
            "      circulation. Whenever I find myself growing grim about the mouth; whenever\r\n",
            "      it is a damp, drizzly November in my soul; whenever I find myself\r\n",
            "      involuntarily pausing before coffin warehouses, and bringing up the rear\r\n",
            "      of every funeral I meet; and especially whenever my hypos get such an\r\n",
            "      upper hand of me, that it requires a strong moral principle to prevent me\r\n",
            "      from deliberately stepping into the street, and methodically knocking\r\n",
            "      people’s hats off—then, I account it high time to get to sea as soon\r\n",
            "      as I can. This is my substitute for pistol and ball. With a philosophical\r\n",
            "      flourish Cato throws himself upon his sword; I quietly take to the ship.\r\n",
            "      There is nothing surprising in this. If they but knew it, almost all men\r\n",
            "      in their degree, some time or other, cherish very nearly the same feelings\r\n",
            "      towards the ocean with me.\r\n",
            "    \n",
            "\r\n",
            "      Ther\n"
          ],
          "name": "stdout"
        }
      ]
    },
    {
      "cell_type": "markdown",
      "metadata": {
        "dc": {
          "key": "24"
        },
        "deletable": false,
        "editable": false,
        "run_control": {
          "frozen": true
        },
        "tags": [
          "context"
        ],
        "id": "93vg5nJobBxy"
      },
      "source": [
        "## 4. Extract the words\n",
        "<p>We now have the text of the novel! There is some unwanted stuff at the start and some unwanted stuff at the end. We could remove it, but this content is so much smaller in amount than the text of Moby Dick that, to a first approximation, it is okay to leave it in.</p>\n",
        "<p>Now that we have the text of interest, it's time to count how many times each word appears, and for this we'll use <code>nltk</code> – the Natural Language Toolkit. We'll start by tokenizing the text, that is, remove everything that isn't a word (whitespace, punctuation, etc.) and then split the text into a list of words.</p>"
      ]
    },
    {
      "cell_type": "code",
      "metadata": {
        "dc": {
          "key": "24"
        },
        "tags": [
          "sample_code"
        ],
        "trusted": true,
        "colab": {
          "base_uri": "https://localhost:8080/"
        },
        "id": "TFn1nPkZbBx1",
        "outputId": "bb6791dd-116c-4571-afdb-26cfa04e6600"
      },
      "source": [
        "# Creating a tokenizer\n",
        "from nltk.tokenize import RegexpTokenizer\n",
        "tokenizer = RegexpTokenizer('\\w+')\n",
        "\n",
        "# Tokenizing the text\n",
        "tokens = tokenizer.tokenize(text)\n",
        "\n",
        "# Printing out the first 8 words / tokens \n",
        "print(tokens[:8])"
      ],
      "execution_count": 5,
      "outputs": [
        {
          "output_type": "stream",
          "text": [
            "['Moby', 'Dick', 'Or', 'the', 'Whale', 'by', 'Herman', 'Melville']\n"
          ],
          "name": "stdout"
        }
      ]
    },
    {
      "cell_type": "markdown",
      "metadata": {
        "dc": {
          "key": "31"
        },
        "deletable": false,
        "editable": false,
        "run_control": {
          "frozen": true
        },
        "tags": [
          "context"
        ],
        "id": "CIX4GPUobBx4"
      },
      "source": [
        "## 5. Make the words lowercase\n",
        "<p>OK! We're nearly there. Note that in the above 'Or' has a capital 'O' and that in other places it may not, but both 'Or' and 'or' should be counted as the same word. For this reason, we should build a list of all words in <em>Moby Dick</em> in which all capital letters have been made lower case.</p>"
      ]
    },
    {
      "cell_type": "code",
      "metadata": {
        "dc": {
          "key": "31"
        },
        "tags": [
          "sample_code"
        ],
        "trusted": true,
        "colab": {
          "base_uri": "https://localhost:8080/"
        },
        "id": "vrFM7in_bBx7",
        "outputId": "7230c0e7-9bec-418b-c64e-eb96198ef907"
      },
      "source": [
        "# Create a list called words containing all tokens transformed to lower-case\n",
        "words = []\n",
        "for word in tokens:\n",
        "    words.append(word.lower())\n",
        "\n",
        "# Printing out the first 8 words / tokens \n",
        "print(words[:8])"
      ],
      "execution_count": 6,
      "outputs": [
        {
          "output_type": "stream",
          "text": [
            "['moby', 'dick', 'or', 'the', 'whale', 'by', 'herman', 'melville']\n"
          ],
          "name": "stdout"
        }
      ]
    },
    {
      "cell_type": "code",
      "metadata": {
        "dc": {
          "key": "31"
        },
        "trusted": true,
        "colab": {
          "base_uri": "https://localhost:8080/"
        },
        "id": "TAkYF0f7bBx9",
        "outputId": "22fbe907-4406-4373-e49a-837e82182fbc"
      },
      "source": [
        "# Create a list called words containing all tokens transformed to lower-case\n",
        "# Another way of doing it\n",
        "words = [token.lower() for token in tokens]\n",
        "\n",
        "# Printing out the first 8 words / tokens \n",
        "words[:8]"
      ],
      "execution_count": 7,
      "outputs": [
        {
          "output_type": "execute_result",
          "data": {
            "text/plain": [
              "['moby', 'dick', 'or', 'the', 'whale', 'by', 'herman', 'melville']"
            ]
          },
          "metadata": {
            "tags": []
          },
          "execution_count": 7
        }
      ]
    },
    {
      "cell_type": "markdown",
      "metadata": {
        "dc": {
          "key": "38"
        },
        "deletable": false,
        "editable": false,
        "run_control": {
          "frozen": true
        },
        "tags": [
          "context"
        ],
        "id": "HbQBQUKwbByU"
      },
      "source": [
        "## 6. Load in stop words\n",
        "<p>It is common practice to remove words that appear a lot in the English language such as 'the', 'of' and 'a' because they're not so interesting. Such words are known as <em>stop words</em>. The package <code>nltk</code> includes a good list of stop words in English that we can use.</p>"
      ]
    },
    {
      "cell_type": "code",
      "metadata": {
        "dc": {
          "key": "38"
        },
        "tags": [
          "sample_code"
        ],
        "trusted": true,
        "colab": {
          "base_uri": "https://localhost:8080/"
        },
        "id": "-NCQT546bByW",
        "outputId": "92ef8fc3-bf23-4de5-e3db-cd5d9ef3e0d5"
      },
      "source": [
        "# Getting the English stop words from nltk\n",
        "#On a norm, before you can load stopwords, you need to\n",
        "# download them using the following code \n",
        "#nltk.download('stopwords')\n",
        "#However this has already been done here\n",
        "nltk.download('stopwords')\n",
        "from nltk.corpus import stopwords\n",
        "sw = stopwords.words('english')\n",
        "\n",
        "# Printing out the first eight stop words\n",
        "print(sw[:8])"
      ],
      "execution_count": 8,
      "outputs": [
        {
          "output_type": "stream",
          "text": [
            "[nltk_data] Downloading package stopwords to /root/nltk_data...\n",
            "[nltk_data]   Unzipping corpora/stopwords.zip.\n",
            "['i', 'me', 'my', 'myself', 'we', 'our', 'ours', 'ourselves']\n"
          ],
          "name": "stdout"
        }
      ]
    },
    {
      "cell_type": "markdown",
      "metadata": {
        "dc": {
          "key": "45"
        },
        "deletable": false,
        "editable": false,
        "run_control": {
          "frozen": true
        },
        "tags": [
          "context"
        ],
        "id": "Wy9h_BBrbByY"
      },
      "source": [
        "## 7. Remove stop words in Moby Dick\n",
        "<p>We now want to create a new list with all <code>words</code> in Moby Dick, except those that are stop words (that is, those words listed in <code>sw</code>).</p>"
      ]
    },
    {
      "cell_type": "code",
      "metadata": {
        "dc": {
          "key": "45"
        },
        "tags": [
          "sample_code"
        ],
        "trusted": true,
        "colab": {
          "base_uri": "https://localhost:8080/"
        },
        "id": "ltUJwancbByc",
        "outputId": "4119380e-97b6-43cf-b856-8aa453e514f8"
      },
      "source": [
        "# Create a list words_ns containing all words that are in words but not in sw\n",
        "words_ns = [word for word in words if word not in sw]\n",
        "\n",
        "# Printing the first 5 words_ns to check that stop words are gone\n",
        "print(words_ns[:5])"
      ],
      "execution_count": 9,
      "outputs": [
        {
          "output_type": "stream",
          "text": [
            "['moby', 'dick', 'whale', 'herman', 'melville']\n"
          ],
          "name": "stdout"
        }
      ]
    },
    {
      "cell_type": "code",
      "metadata": {
        "dc": {
          "key": "45"
        },
        "trusted": true,
        "colab": {
          "base_uri": "https://localhost:8080/"
        },
        "id": "Gn4FJ8ozbBye",
        "outputId": "8b07f6dd-b8ba-4b44-a304-ac7739827d6c"
      },
      "source": [
        "#Another way of writing thesame code above\n",
        "words_ns = []\n",
        "for word in words:\n",
        "    if word not in sw:\n",
        "        words_ns.append(word)\n",
        "\n",
        "print(words_ns[:5])"
      ],
      "execution_count": 10,
      "outputs": [
        {
          "output_type": "stream",
          "text": [
            "['moby', 'dick', 'whale', 'herman', 'melville']\n"
          ],
          "name": "stdout"
        }
      ]
    },
    {
      "cell_type": "markdown",
      "metadata": {
        "dc": {
          "key": "52"
        },
        "deletable": false,
        "editable": false,
        "run_control": {
          "frozen": true
        },
        "tags": [
          "context"
        ],
        "id": "_RgX-TbibByg"
      },
      "source": [
        "## 8. We have the answer\n",
        "<p>Our original question was:</p>\n",
        "<blockquote>\n",
        "  <p>What are the most frequent words in Herman Melville's novel Moby Dick and how often do they occur?</p>\n",
        "</blockquote>\n",
        "<p>We are now ready to answer that! Let's answer this question using the <code>Counter</code> class we imported earlier.</p>"
      ]
    },
    {
      "cell_type": "code",
      "metadata": {
        "dc": {
          "key": "52"
        },
        "tags": [
          "sample_code"
        ],
        "trusted": true,
        "colab": {
          "base_uri": "https://localhost:8080/"
        },
        "id": "F3yMyhSfbByh",
        "outputId": "9e1c85a7-96cc-4b5e-8006-0fed04eb9d5d"
      },
      "source": [
        "# Initialize a Counter object from our processed list of words\n",
        "count = Counter(words_ns)\n",
        "\n",
        "# Store 10 most common words and their counts as top_ten\n",
        "top_ten = count.most_common(10)\n",
        "\n",
        "# Print the top ten words and their counts\n",
        "print(top_ten)"
      ],
      "execution_count": 11,
      "outputs": [
        {
          "output_type": "stream",
          "text": [
            "[('whale', 1246), ('one', 925), ('like', 647), ('upon', 568), ('man', 527), ('ship', 519), ('ahab', 517), ('ye', 473), ('sea', 455), ('old', 452)]\n"
          ],
          "name": "stdout"
        }
      ]
    },
    {
      "cell_type": "markdown",
      "metadata": {
        "dc": {
          "key": "59"
        },
        "deletable": false,
        "editable": false,
        "run_control": {
          "frozen": true
        },
        "tags": [
          "context"
        ],
        "id": "rOPMjxe8bByi"
      },
      "source": [
        "## 9. The most common word\n",
        "<p>Nice! Using our variable <code>top_ten</code>, we now have an answer to our original question.</p>\n",
        "<p>The natural language processing skills we used in this notebook are also applicable to much of the data that Data Scientists encounter as the vast proportion of the world's data is unstructured data and includes a great deal of text. </p>\n",
        "<p>So, what word turned out to (<em>not surprisingly</em>) be the most common word in Moby Dick?</p>"
      ]
    },
    {
      "cell_type": "code",
      "metadata": {
        "dc": {
          "key": "59"
        },
        "tags": [
          "sample_code"
        ],
        "collapsed": true,
        "trusted": true,
        "id": "vLkna_HbbByj"
      },
      "source": [
        "# What's the most common word in Moby Dick?\n",
        "most_common_word = 'whale'"
      ],
      "execution_count": 12,
      "outputs": []
    },
    {
      "cell_type": "code",
      "metadata": {
        "colab": {
          "base_uri": "https://localhost:8080/"
        },
        "id": "_i5t37SHbsLT",
        "outputId": "d53df4d0-2818-486c-f12b-5de758e57889"
      },
      "source": [
        "pip install wordcloud"
      ],
      "execution_count": 13,
      "outputs": [
        {
          "output_type": "stream",
          "text": [
            "Requirement already satisfied: wordcloud in /usr/local/lib/python3.7/dist-packages (1.5.0)\n",
            "Requirement already satisfied: numpy>=1.6.1 in /usr/local/lib/python3.7/dist-packages (from wordcloud) (1.19.5)\n",
            "Requirement already satisfied: pillow in /usr/local/lib/python3.7/dist-packages (from wordcloud) (7.0.0)\n"
          ],
          "name": "stdout"
        }
      ]
    },
    {
      "cell_type": "code",
      "metadata": {
        "id": "fUj_toC_RJnA"
      },
      "source": [
        "import matplotlib.pyplot as plt\r\n",
        "from wordcloud import WordCloud\r\n",
        "import itertools"
      ],
      "execution_count": 14,
      "outputs": []
    },
    {
      "cell_type": "code",
      "metadata": {
        "colab": {
          "base_uri": "https://localhost:8080/"
        },
        "id": "6GhyvdYkdpS3",
        "outputId": "af133b61-d133-410e-f416-c24e79d22289"
      },
      "source": [
        "top_ten_words = [list(x) for x in top_ten] \r\n",
        "top_ten_words"
      ],
      "execution_count": 15,
      "outputs": [
        {
          "output_type": "execute_result",
          "data": {
            "text/plain": [
              "[['whale', 1246],\n",
              " ['one', 925],\n",
              " ['like', 647],\n",
              " ['upon', 568],\n",
              " ['man', 527],\n",
              " ['ship', 519],\n",
              " ['ahab', 517],\n",
              " ['ye', 473],\n",
              " ['sea', 455],\n",
              " ['old', 452]]"
            ]
          },
          "metadata": {
            "tags": []
          },
          "execution_count": 15
        }
      ]
    },
    {
      "cell_type": "code",
      "metadata": {
        "colab": {
          "base_uri": "https://localhost:8080/",
          "height": 35
        },
        "id": "l0G0ZBvmY89h",
        "outputId": "122b2cce-4af6-4cb3-a4da-037e7c36a58a"
      },
      "source": [
        "top_strings = str(top_top)\r\n",
        "top_strings"
      ],
      "execution_count": 23,
      "outputs": [
        {
          "output_type": "execute_result",
          "data": {
            "application/vnd.google.colaboratory.intrinsic+json": {
              "type": "string"
            },
            "text/plain": [
              "\"['whale', 'one', 'like', 'upon', 'man', 'ship', 'ahab', 'ye', 'sea', 'old']\""
            ]
          },
          "metadata": {
            "tags": []
          },
          "execution_count": 23
        }
      ]
    },
    {
      "cell_type": "code",
      "metadata": {
        "dc": {
          "key": "59"
        },
        "trusted": true,
        "id": "qqOZ3WsxbByk"
      },
      "source": [
        "def create_word_cloud(string):\n",
        "  cloud = WordCloud(background_color = \"white\", max_words = 200)\n",
        "  cloud.generate(string)\n",
        "  cloud.to_file(\"wordCloud.png\")\n",
        "create_word_cloud(top_strings)"
      ],
      "execution_count": 28,
      "outputs": []
    }
  ]
}